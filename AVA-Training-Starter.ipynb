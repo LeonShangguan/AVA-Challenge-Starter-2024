{
 "cells": [
  {
   "cell_type": "markdown",
   "id": "e7657499",
   "metadata": {},
   "source": [
    "## Install Detectron2"
   ]
  },
  {
   "cell_type": "code",
   "execution_count": null,
   "id": "213bd49e",
   "metadata": {},
   "outputs": [],
   "source": [
    "!python -m pip install 'git+https://github.com/facebookresearch/detectron2.git'"
   ]
  },
  {
   "cell_type": "markdown",
   "id": "4a63d0b7",
   "metadata": {},
   "source": [
    "## Import Libraries"
   ]
  },
  {
   "cell_type": "code",
   "execution_count": null,
   "id": "83e11413",
   "metadata": {},
   "outputs": [],
   "source": [
    "import os\n",
    "import cv2\n",
    "import json\n",
    "import random\n",
    "import numpy as np\n",
    "import pandas as pd \n",
    "from pathlib import Path\n",
    "import matplotlib.pyplot as plt\n",
    "\n",
    "from pycocotools.coco import COCO\n",
    "\n",
    "# detectron2\n",
    "from detectron2 import model_zoo\n",
    "from detectron2.config import get_cfg\n",
    "from detectron2.utils.logger import setup_logger\n",
    "from detectron2.utils.visualizer import Visualizer\n",
    "from detectron2.utils.visualizer import ColorMode\n",
    "from detectron2.data import DatasetCatalog, MetadataCatalog\n",
    "from detectron2.engine import DefaultPredictor, DefaultTrainer\n",
    "from detectron2.evaluation import COCOEvaluator, DatasetEvaluators\n",
    "\n",
    "# Ignore warnings\n",
    "import warnings\n",
    "warnings.filterwarnings('ignore') \n",
    "\n",
    "# Setup logger\n",
    "setup_logger()"
   ]
  },
  {
   "cell_type": "markdown",
   "id": "4684e4cb",
   "metadata": {},
   "source": [
    "## Register dataset"
   ]
  },
  {
   "cell_type": "code",
   "execution_count": null,
   "id": "5efae9b5",
   "metadata": {},
   "outputs": [],
   "source": [
    "Data_Resister_training=\"train_xworld\";\n",
    "Data_Resister_valid=\"val_xworld\";\n",
    "from detectron2.data.datasets import register_coco_instances\n",
    "\n",
    "register_coco_instances(Data_Resister_training,{}, 'x_world/instances_train_xworld.json', Path(\"x_world/train_xworld\"))\n",
    "register_coco_instances(Data_Resister_valid,{},'x_world/instances_val_xworld.json', Path(\"x_world/val_xworld\"))\n",
    "\n",
    "metadata = MetadataCatalog.get(Data_Resister_training)\n",
    "dataset_train = DatasetCatalog.get(Data_Resister_training)\n",
    "dataset_valid = DatasetCatalog.get(Data_Resister_valid)"
   ]
  },
  {
   "cell_type": "code",
   "execution_count": null,
   "id": "5539a6f1",
   "metadata": {},
   "outputs": [],
   "source": [
    "metadata"
   ]
  },
  {
   "cell_type": "markdown",
   "id": "e9d0683e",
   "metadata": {},
   "source": [
    "## Visualize some examples from training dataset"
   ]
  },
  {
   "cell_type": "code",
   "execution_count": null,
   "id": "b7e78479",
   "metadata": {},
   "outputs": [],
   "source": [
    "for i in random.sample(range(len(dataset_train)), k=3):\n",
    "    sample = dataset_train[i]\n",
    "\n",
    "    fig, ax = plt.subplots(figsize =(12,8))\n",
    "    img = cv2.imread(sample[\"file_name\"])\n",
    "    v = Visualizer(\n",
    "            img[:, :, ::-1],\n",
    "            metadata=metadata, \n",
    "            instance_mode=ColorMode.IMAGE_BW\n",
    "        )\n",
    "    \n",
    "    for s in sample[\"annotations\"]:\n",
    "        if 'keypoints' in s.keys():\n",
    "            s.pop(\"keypoints\", None)\n",
    "            \n",
    "    out = v.draw_dataset_dict(sample)\n",
    "    ax.axis('off')\n",
    "    print(f\"image name:{sample['file_name']}\")\n",
    "    ax.imshow(out.get_image()[:, :, ::-1])"
   ]
  },
  {
   "cell_type": "markdown",
   "id": "a592f354",
   "metadata": {},
   "source": [
    "## Build evaluator"
   ]
  },
  {
   "cell_type": "code",
   "execution_count": null,
   "id": "64c194ab",
   "metadata": {},
   "outputs": [],
   "source": [
    "class Trainer(DefaultTrainer):\n",
    "\n",
    "    @classmethod\n",
    "    def build_evaluator(cls, cfg, dataset_name, output_folder=None):\n",
    "        return DatasetEvaluators([COCOEvaluator(dataset_name, output_dir=output_folder)])"
   ]
  },
  {
   "cell_type": "markdown",
   "id": "e8a8c15a",
   "metadata": {},
   "source": [
    "## Customize Configs"
   ]
  },
  {
   "cell_type": "code",
   "execution_count": null,
   "id": "941e3bf8",
   "metadata": {},
   "outputs": [],
   "source": [
    "cfg = get_cfg()\n",
    "config_name = \"COCO-InstanceSegmentation/mask_rcnn_R_50_FPN_1x.yaml\" \n",
    "cfg.merge_from_file(model_zoo.get_config_file(config_name))\n",
    "\n",
    "cfg.DATASETS.TRAIN = (Data_Resister_training,)\n",
    "cfg.DATASETS.TEST = (Data_Resister_valid,)\n",
    "\n",
    "cfg.MODEL.WEIGHTS =\"detectron2://COCO-InstanceSegmentation/mask_rcnn_R_50_FPN_1x/137260431/model_final_a54504.pkl\"\n",
    "cfg.MODEL.ROI_HEADS.NUM_CLASSES = 8 \n",
    "cfg.MODEL.MASK_ON = True\n",
    "cfg.MODEL.DEVICE = \"cuda:0\"\n",
    "\n",
    "\n",
    "cfg.DATALOADER.NUM_WORKERS = 8\n",
    "\n",
    "cfg.SOLVER.IMS_PER_BATCH = 8 \n",
    "cfg.SOLVER.BASE_LR = 0.01 \n",
    "cfg.SOLVER.WARMUP_ITERS = 10 \n",
    "cfg.SOLVER.MAX_ITER = 2000 \n",
    "cfg.SOLVER.STEPS = (500, 1000) \n",
    "cfg.SOLVER.CHECKPOINT_PERIOD=500\n",
    "\n",
    "cfg.TEST.EVAL_PERIOD = 250\n",
    "\n",
    "cfg.OUTPUT_DIR = \"./output\"\n",
    "\n",
    "os.makedirs(cfg.OUTPUT_DIR, exist_ok=True)"
   ]
  },
  {
   "cell_type": "markdown",
   "id": "8001bc10",
   "metadata": {},
   "source": [
    "## Training"
   ]
  },
  {
   "cell_type": "code",
   "execution_count": null,
   "id": "bc97f3b7",
   "metadata": {},
   "outputs": [],
   "source": [
    "trainer = Trainer(cfg)\n",
    "trainer.resume_or_load(resume=False)\n",
    "trainer.train()"
   ]
  },
  {
   "cell_type": "code",
   "execution_count": null,
   "id": "19c03c66",
   "metadata": {},
   "outputs": [],
   "source": []
  }
 ],
 "metadata": {
  "kernelspec": {
   "display_name": "Python 3 (ipykernel)",
   "language": "python",
   "name": "python3"
  },
  "language_info": {
   "codemirror_mode": {
    "name": "ipython",
    "version": 3
   },
   "file_extension": ".py",
   "mimetype": "text/x-python",
   "name": "python",
   "nbconvert_exporter": "python",
   "pygments_lexer": "ipython3",
   "version": "3.8.11"
  }
 },
 "nbformat": 4,
 "nbformat_minor": 5
}
