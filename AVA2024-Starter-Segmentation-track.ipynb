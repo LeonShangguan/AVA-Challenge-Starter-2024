{
 "cells": [
  {
   "cell_type": "code",
   "execution_count": null,
   "id": "e6dbc3f9",
   "metadata": {},
   "outputs": [],
   "source": [
    "import os\n",
    "import cv2\n",
    "import json\n",
    "import random\n",
    "import numpy as np\n",
    "import pandas as pd \n",
    "from pathlib import Path\n",
    "import matplotlib.pyplot as plt\n",
    "\n",
    "from pycocotools.coco import COCO\n",
    "\n",
    "# detectron2\n",
    "from detectron2 import model_zoo\n",
    "from detectron2.config import get_cfg\n",
    "from detectron2.utils.logger import setup_logger\n",
    "from detectron2.utils.visualizer import Visualizer\n",
    "from detectron2.utils.visualizer import ColorMode\n",
    "from detectron2.data import DatasetCatalog, MetadataCatalog\n",
    "from detectron2.engine import DefaultPredictor, DefaultTrainer\n",
    "from detectron2.evaluation import COCOEvaluator, DatasetEvaluators\n",
    "\n",
    "# Ignore warnings\n",
    "import warnings\n",
    "warnings.filterwarnings('ignore') \n",
    "\n",
    "# Setup logger\n",
    "setup_logger()"
   ]
  },
  {
   "cell_type": "code",
   "execution_count": null,
   "id": "98622eb1",
   "metadata": {},
   "outputs": [],
   "source": [
    "Data_Resister_training=\"train_xworld\";\n",
    "Data_Resister_valid=\"val_xworld\";\n",
    "from detectron2.data.datasets import register_coco_instances\n",
    "\n",
    "register_coco_instances(Data_Resister_training,{}, 'dataset/train_xworld.json', Path(\"dataset/train_xworld\"))\n",
    "register_coco_instances(Data_Resister_valid,{},'dataset/val_xworld.json', Path(\"dataset/val_xworld\"))\n",
    "\n",
    "metadata = MetadataCatalog.get(Data_Resister_training)\n",
    "dataset_train = DatasetCatalog.get(Data_Resister_training)\n",
    "dataset_valid = DatasetCatalog.get(Data_Resister_valid)"
   ]
  },
  {
   "cell_type": "code",
   "execution_count": null,
   "id": "4b6cff65",
   "metadata": {},
   "outputs": [],
   "source": [
    "metadata"
   ]
  },
  {
   "cell_type": "code",
   "execution_count": null,
   "id": "e73daac6",
   "metadata": {},
   "outputs": [],
   "source": [
    "for i in random.sample(range(len(dataset_train)), k=3):\n",
    "    sample = dataset_train[i]\n",
    "\n",
    "    fig, ax = plt.subplots(figsize =(12,8))\n",
    "    img = cv2.imread(sample[\"file_name\"])\n",
    "    v = Visualizer(\n",
    "            img[:, :, ::-1],\n",
    "            metadata=metadata, \n",
    "            instance_mode=ColorMode.IMAGE_BW\n",
    "        )\n",
    "    \n",
    "    for s in sample[\"annotations\"]:\n",
    "        if 'keypoints' in s.keys():\n",
    "            s.pop(\"keypoints\", None)\n",
    "            \n",
    "    out = v.draw_dataset_dict(sample)\n",
    "    ax.axis('off')\n",
    "    print(f\"image name:{sample['file_name']}\")\n",
    "    ax.imshow(out.get_image()[:, :, ::-1])"
   ]
  },
  {
   "cell_type": "code",
   "execution_count": null,
   "id": "28ddd886",
   "metadata": {},
   "outputs": [],
   "source": [
    "class Trainer(DefaultTrainer):\n",
    "\n",
    "    @classmethod\n",
    "    def build_evaluator(cls, cfg, dataset_name, output_folder=None):\n",
    "        if output_folder is None:\n",
    "            output_folder = os.path.join(cfg.OUTPUT_DIR, \"inference\")\n",
    "        return DatasetEvaluators([COCOEvaluator(dataset_name, output_dir=output_folder)])"
   ]
  },
  {
   "cell_type": "code",
   "execution_count": null,
   "id": "acd1e96d",
   "metadata": {},
   "outputs": [],
   "source": [
    "cfg = get_cfg()\n",
    "config_name = \"COCO-InstanceSegmentation/mask_rcnn_R_50_FPN_1x.yaml\" \n",
    "cfg.merge_from_file(model_zoo.get_config_file(config_name))\n",
    "\n",
    "cfg.DATASETS.TRAIN = (Data_Resister_training,)\n",
    "cfg.DATASETS.TEST = (Data_Resister_valid,)\n",
    "\n",
    "cfg.MODEL.WEIGHTS =\"detectron2://COCO-InstanceSegmentation/mask_rcnn_R_50_FPN_1x/137260431/model_final_a54504.pkl\"\n",
    "cfg.MODEL.ROI_HEADS.NUM_CLASSES = 8 \n",
    "cfg.MODEL.MASK_ON = True\n",
    "cfg.MODEL.DEVICE = \"cuda:0\"\n",
    "\n",
    "\n",
    "cfg.DATALOADER.NUM_WORKERS = 8\n",
    "\n",
    "cfg.SOLVER.IMS_PER_BATCH = 8 \n",
    "cfg.SOLVER.BASE_LR = 0.01 \n",
    "cfg.SOLVER.WARMUP_ITERS = 10 \n",
    "cfg.SOLVER.MAX_ITER = 5000\n",
    "\n",
    "cfg.SOLVER.STEPS = (500, 1000) \n",
    "cfg.SOLVER.CHECKPOINT_PERIOD=1000\n",
    "\n",
    "cfg.TEST.EVAL_PERIOD = 1000\n",
    "\n",
    "cfg.OUTPUT_DIR = \"./segmentation\"\n",
    "\n",
    "os.makedirs(cfg.OUTPUT_DIR, exist_ok=True)\n"
   ]
  },
  {
   "cell_type": "code",
   "execution_count": null,
   "id": "83358435",
   "metadata": {},
   "outputs": [],
   "source": [
    "trainer = Trainer(cfg)\n",
    "trainer.resume_or_load(resume=False)\n",
    "trainer.train()"
   ]
  }
 ],
 "metadata": {
  "kernelspec": {
   "display_name": "Python 3 (ipykernel)",
   "language": "python",
   "name": "python3"
  },
  "language_info": {
   "codemirror_mode": {
    "name": "ipython",
    "version": 3
   },
   "file_extension": ".py",
   "mimetype": "text/x-python",
   "name": "python",
   "nbconvert_exporter": "python",
   "pygments_lexer": "ipython3",
   "version": "3.9.13"
  }
 },
 "nbformat": 4,
 "nbformat_minor": 5
}
